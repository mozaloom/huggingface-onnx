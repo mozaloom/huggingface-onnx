{
 "cells": [
  {
   "cell_type": "code",
   "execution_count": null,
   "id": "188ad327",
   "metadata": {
    "vscode": {
     "languageId": "plaintext"
    }
   },
   "outputs": [],
   "source": [
    "\n",
    "from transformers.onnx.features import FeaturesManager\n",
    "\n",
    "distilbert_features = list(FeaturesManager.get_supported_features_for_model_type(\"distilbert\").keys())\n",
    "print(distilbert_features)\n"
   ]
  },
  {
   "cell_type": "code",
   "execution_count": null,
   "id": "f5c0ca79",
   "metadata": {
    "vscode": {
     "languageId": "plaintext"
    }
   },
   "outputs": [],
   "source": [
    "!python -m transformers.onnx --model=distilbert-base-uncased-finetuned-sst-2-english \\\n",
    "                            --feature=question-answering .\n"
   ]
  }
 ],
 "metadata": {
  "language_info": {
   "name": "python"
  }
 },
 "nbformat": 4,
 "nbformat_minor": 5
}
